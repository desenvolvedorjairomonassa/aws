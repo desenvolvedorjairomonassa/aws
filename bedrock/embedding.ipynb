{
 "cells": [
  {
   "cell_type": "code",
   "execution_count": 2,
   "id": "e3e4d25c-2c44-43e7-92fe-d8700d6ba1a9",
   "metadata": {
    "tags": []
   },
   "outputs": [
    {
     "name": "stdout",
     "output_type": "stream",
     "text": [
      "\u001b[33mWARNING: Running pip as the 'root' user can result in broken permissions and conflicting behaviour with the system package manager. It is recommended to use a virtual environment instead: https://pip.pypa.io/warnings/venv\u001b[0m\u001b[33m\n",
      "\u001b[0mRequirement already satisfied: Pillow in /opt/conda/lib/python3.10/site-packages (10.3.0)\n",
      "\u001b[33mWARNING: Running pip as the 'root' user can result in broken permissions and conflicting behaviour with the system package manager. It is recommended to use a virtual environment instead: https://pip.pypa.io/warnings/venv\u001b[0m\u001b[33m\n",
      "\u001b[0mRequirement already satisfied: numpy in /opt/conda/lib/python3.10/site-packages (1.26.4)\n",
      "\u001b[33mWARNING: Running pip as the 'root' user can result in broken permissions and conflicting behaviour with the system package manager. It is recommended to use a virtual environment instead: https://pip.pypa.io/warnings/venv\u001b[0m\u001b[33m\n",
      "\u001b[0mRequirement already satisfied: pandas in /opt/conda/lib/python3.10/site-packages (2.2.2)\n",
      "Requirement already satisfied: numpy>=1.22.4 in /opt/conda/lib/python3.10/site-packages (from pandas) (1.26.4)\n",
      "Requirement already satisfied: python-dateutil>=2.8.2 in /opt/conda/lib/python3.10/site-packages (from pandas) (2.9.0)\n",
      "Requirement already satisfied: pytz>=2020.1 in /opt/conda/lib/python3.10/site-packages (from pandas) (2024.1)\n",
      "Requirement already satisfied: tzdata>=2022.7 in /opt/conda/lib/python3.10/site-packages (from pandas) (2024.1)\n",
      "Requirement already satisfied: six>=1.5 in /opt/conda/lib/python3.10/site-packages (from python-dateutil>=2.8.2->pandas) (1.16.0)\n",
      "\u001b[33mWARNING: Running pip as the 'root' user can result in broken permissions and conflicting behaviour with the system package manager. It is recommended to use a virtual environment instead: https://pip.pypa.io/warnings/venv\u001b[0m\u001b[33m\n",
      "\u001b[0mRequirement already satisfied: scikit-learn in /opt/conda/lib/python3.10/site-packages (1.5.0)\n",
      "Requirement already satisfied: numpy>=1.19.5 in /opt/conda/lib/python3.10/site-packages (from scikit-learn) (1.26.4)\n",
      "Requirement already satisfied: scipy>=1.6.0 in /opt/conda/lib/python3.10/site-packages (from scikit-learn) (1.13.0)\n",
      "Requirement already satisfied: joblib>=1.2.0 in /opt/conda/lib/python3.10/site-packages (from scikit-learn) (1.4.0)\n",
      "Requirement already satisfied: threadpoolctl>=3.1.0 in /opt/conda/lib/python3.10/site-packages (from scikit-learn) (3.1.0)\n",
      "\u001b[33mWARNING: Running pip as the 'root' user can result in broken permissions and conflicting behaviour with the system package manager. It is recommended to use a virtual environment instead: https://pip.pypa.io/warnings/venv\u001b[0m\u001b[33m\n",
      "\u001b[0mRequirement already satisfied: psycopg2-binary in /opt/conda/lib/python3.10/site-packages (2.9.9)\n",
      "\u001b[33mWARNING: Running pip as the 'root' user can result in broken permissions and conflicting behaviour with the system package manager. It is recommended to use a virtual environment instead: https://pip.pypa.io/warnings/venv\u001b[0m\u001b[33m\n",
      "\u001b[0mRequirement already satisfied: requests in /opt/conda/lib/python3.10/site-packages (2.32.3)\n",
      "Requirement already satisfied: charset-normalizer<4,>=2 in /opt/conda/lib/python3.10/site-packages (from requests) (3.3.2)\n",
      "Requirement already satisfied: idna<4,>=2.5 in /opt/conda/lib/python3.10/site-packages (from requests) (3.6)\n",
      "Requirement already satisfied: urllib3<3,>=1.21.1 in /opt/conda/lib/python3.10/site-packages (from requests) (2.2.1)\n",
      "Requirement already satisfied: certifi>=2017.4.17 in /opt/conda/lib/python3.10/site-packages (from requests) (2024.2.2)\n",
      "\u001b[33mWARNING: Running pip as the 'root' user can result in broken permissions and conflicting behaviour with the system package manager. It is recommended to use a virtual environment instead: https://pip.pypa.io/warnings/venv\u001b[0m\u001b[33m\n",
      "\u001b[0mRequirement already satisfied: requests_aws4auth in /opt/conda/lib/python3.10/site-packages (1.2.3)\n",
      "Requirement already satisfied: requests in /opt/conda/lib/python3.10/site-packages (from requests_aws4auth) (2.32.3)\n",
      "Requirement already satisfied: six in /opt/conda/lib/python3.10/site-packages (from requests_aws4auth) (1.16.0)\n",
      "Requirement already satisfied: charset-normalizer<4,>=2 in /opt/conda/lib/python3.10/site-packages (from requests->requests_aws4auth) (3.3.2)\n",
      "Requirement already satisfied: idna<4,>=2.5 in /opt/conda/lib/python3.10/site-packages (from requests->requests_aws4auth) (3.6)\n",
      "Requirement already satisfied: urllib3<3,>=1.21.1 in /opt/conda/lib/python3.10/site-packages (from requests->requests_aws4auth) (2.2.1)\n",
      "Requirement already satisfied: certifi>=2017.4.17 in /opt/conda/lib/python3.10/site-packages (from requests->requests_aws4auth) (2024.2.2)\n",
      "\u001b[33mWARNING: Running pip as the 'root' user can result in broken permissions and conflicting behaviour with the system package manager. It is recommended to use a virtual environment instead: https://pip.pypa.io/warnings/venv\u001b[0m\u001b[33m\n",
      "\u001b[0mRequirement already satisfied: pinecone-client in /opt/conda/lib/python3.10/site-packages (4.1.1)\n",
      "Requirement already satisfied: certifi>=2019.11.17 in /opt/conda/lib/python3.10/site-packages (from pinecone-client) (2024.2.2)\n",
      "Requirement already satisfied: pinecone-plugin-interface<0.0.8,>=0.0.7 in /opt/conda/lib/python3.10/site-packages (from pinecone-client) (0.0.7)\n",
      "Requirement already satisfied: tqdm>=4.64.1 in /opt/conda/lib/python3.10/site-packages (from pinecone-client) (4.66.1)\n",
      "Requirement already satisfied: typing-extensions>=3.7.4 in /opt/conda/lib/python3.10/site-packages (from pinecone-client) (4.11.0)\n",
      "Requirement already satisfied: urllib3>=1.26.0 in /opt/conda/lib/python3.10/site-packages (from pinecone-client) (2.2.1)\n",
      "\u001b[33mWARNING: Running pip as the 'root' user can result in broken permissions and conflicting behaviour with the system package manager. It is recommended to use a virtual environment instead: https://pip.pypa.io/warnings/venv\u001b[0m\u001b[33m\n",
      "\u001b[0mRequirement already satisfied: threadpoolctl==3.1.0 in /opt/conda/lib/python3.10/site-packages (3.1.0)\n",
      "\u001b[33mWARNING: Running pip as the 'root' user can result in broken permissions and conflicting behaviour with the system package manager. It is recommended to use a virtual environment instead: https://pip.pypa.io/warnings/venv\u001b[0m\u001b[33m\n",
      "\u001b[0mRequirement already satisfied: numexpr==2.8.4 in /opt/conda/lib/python3.10/site-packages (2.8.4)\n",
      "Requirement already satisfied: numpy>=1.13.3 in /opt/conda/lib/python3.10/site-packages (from numexpr==2.8.4) (1.26.4)\n",
      "\u001b[33mWARNING: Running pip as the 'root' user can result in broken permissions and conflicting behaviour with the system package manager. It is recommended to use a virtual environment instead: https://pip.pypa.io/warnings/venv\u001b[0m\u001b[33m\n",
      "\u001b[0mRequirement already satisfied: bottleneck==1.3.6 in /opt/conda/lib/python3.10/site-packages (1.3.6)\n",
      "Requirement already satisfied: numpy in /opt/conda/lib/python3.10/site-packages (from bottleneck==1.3.6) (1.26.4)\n",
      "\u001b[33mWARNING: Running pip as the 'root' user can result in broken permissions and conflicting behaviour with the system package manager. It is recommended to use a virtual environment instead: https://pip.pypa.io/warnings/venv\u001b[0m\u001b[33m\n",
      "\u001b[0m"
     ]
    }
   ],
   "source": [
    "!pip install boto3 --upgrade -q\n",
    "!pip install Pillow --upgrade\n",
    "!pip install numpy --upgrade\n",
    "!pip install pandas --upgrade\n",
    "!pip install scikit-learn --upgrade\n",
    "!pip install psycopg2-binary --upgrade\n",
    "!pip install requests --upgrade\n",
    "!pip install requests_aws4auth --upgrade\n",
    "!pip install pinecone-client --upgrade\n",
    "!pip install threadpoolctl==3.1.0\n",
    "!pip install numexpr==2.8.4\n",
    "!pip install bottleneck==1.3.6"
   ]
  },
  {
   "cell_type": "markdown",
   "id": "5e25d2eb-2956-47a7-b2bc-b57070759cca",
   "metadata": {},
   "source": [
    "-- Embedding"
   ]
  },
  {
   "cell_type": "code",
   "execution_count": 3,
   "id": "6dfde72e-fd04-49dc-9bb3-5fc4306be80e",
   "metadata": {
    "tags": []
   },
   "outputs": [
    {
     "name": "stdout",
     "output_type": "stream",
     "text": [
      "[0.44140625, -0.037353516, -0.29882812, 0.359375, 0.55859375, 0.06591797, 0.34765625, -0.0006828308, 0.061279297, -0.025512695, 0.453125, 0.7109375, -0.021728516, -0.08691406, 0.34570312, -0.32226562, -0.21777344, -0.40234375, -0.8828125, 0.26171875, -0.48632812, 0.3515625, -0.037353516, 0.19726562, -0.7578125, -0.6796875, 0.68359375, -0.625, 0.20898438, -0.7890625, -0.18554688, 0.76171875, 0.46484375, -0.7109375, -0.15429688, -0.16113281, 0.40820312, -0.15820312, 0.5859375, 0.12792969, -0.25976562, -0.45703125, 1.046875, -0.21191406, 0.515625, -0.026000977, -0.55078125, 0.23046875, 0.84375, 0.484375, 0.36132812, 0.41015625, -0.5234375, -0.026977539, -0.053466797, 0.66015625, 0.22558594, -0.091796875, -0.0087890625, -0.53515625, 0.028198242, -0.4609375, -0.31054688, 0.65625, 0.609375, -0.3125, -0.72265625, 0.42382812, -0.47460938, -0.057128906, 0.4453125, -0.46289062, 0.265625, 0.49023438, 0.25390625, 0.14941406, 0.64453125, 0.14648438, 0.34765625, 0.38867188, 0.040771484, 0.19335938, -0.45117188, 0.030517578, -0.55859375, 0.1875, -0.3359375, -0.59375, 0.00012779236, -0.25390625, 0.10107422, 0.359375, 0.37109375, 0.640625, -0.13183594, 0.5, -0.91796875, -0.64453125, 0.22949219, 0.68359375, 0.064941406, 0.40429688, -0.1328125, 0.035888672, -0.022216797, 0.44921875, 0.31445312, 0.8203125, -0.014953613, 0.27539062, -0.17578125, -0.5078125, -0.052978516, -0.37890625, -0.53125, 0.5234375, -0.23046875, -0.21875, -0.546875, 0.28710938, 0.52734375, -0.12792969, 0.33984375, 0.57421875, -0.12890625, -0.44726562, -0.34570312, -0.71484375, -0.1484375, 0.31835938, 0.03564453, 0.8984375, 0.6171875, -0.10498047, -0.37304688, -0.38671875, 0.25195312, -0.17480469, 0.453125, -0.0037384033, -0.20507812, -1.3359375, -0.29492188, -0.20214844, -0.43359375, 0.061523438, -0.19433594, -0.115722656, 0.55078125, -0.78125, -0.46289062, -0.578125, 0.09082031, -0.12060547, 0.1640625, 0.084472656, 0.92578125, 0.45898438, 0.087402344, -0.36328125, 0.62890625, 0.13476562, -0.95703125, 0.16113281, 0.095214844, -0.22460938, -0.3671875, 0.099121094, 0.5390625, -0.83984375, 0.3125, -0.84375, -0.66015625, 1.1875, 0.42382812, -0.15917969, 0.55078125, -0.26953125, -0.32617188, 0.49023438, 0.45117188, -0.0043945312, 0.1015625, -0.6640625, 0.021484375, -0.22460938, 0.4140625, -0.39257812, -0.34960938, 1.359375, -0.64453125, 0.0059509277, 0.34765625, -0.07470703, 0.25390625, -0.029907227, -0.34765625, 0.17675781, -0.359375, 0.05834961, -0.20996094, 0.024047852, 0.087402344, 0.044921875, 0.09375, 0.018554688, 0.044433594, 0.5078125, -0.3828125, 0.5625, -0.265625, 0.34570312, -0.2265625, -0.65625, 0.63671875, 0.5390625, -0.48242188, -0.36914062, 0.19433594, 0.064941406, 0.68359375, -1.0859375, 0.38867188, -0.3984375, -0.032714844, -0.24511719, 0.86328125, -0.49609375, 0.609375, -0.25976562, -0.44140625, 0.93359375, -0.25390625, 0.6015625, 0.40625, 0.48828125, -1.203125, 0.30078125, -0.057373047, 0.079589844, 0.41601562, -0.3515625, -0.0146484375, 0.609375, -0.072753906, -0.084472656, 0.31445312, 0.010437012, 0.3984375, -0.15039062, -0.0099487305, 0.13769531, -0.47265625, 0.30859375, -0.037841797, 0.09326172, -0.8046875, 0.049804688, 0.50390625, 0.515625, -0.33789062, -0.10253906, -0.099609375, -0.39648438, 0.30078125, -0.75, -0.14257812, -0.33203125, 0.3046875, -0.38867188, 0.00012588501, -0.375, 0.7265625, -0.29296875, -0.018554688, -0.6875, -1.03125, 0.29296875, 0.82421875, -0.0126953125, 1.6171875, 0.08691406, 0.859375, -0.009765625, 0.043945312, -1.6484375, -0.47851562, 0.16601562, 0.94140625, -0.20117188, -1.2578125, -0.39453125, 0.11376953, 0.640625, 0.28125, 0.12451172, 0.49609375, 0.18164062, 0.004547119, 0.79296875, -0.29101562, -0.07714844, 0.45703125, -0.044433594, -0.027954102, -0.08642578, 0.20800781, -0.44921875, -0.061523438, 0.053710938, 0.044433594, -0.10986328, -0.30273438, 0.28125, 0.16992188, -0.12890625, 0.16308594, 0.37890625, -0.46289062, 0.25390625, -0.0024414062, -1.09375, -0.13476562, 0.25585938, 0.35546875, 0.22070312, -0.13867188, -0.44726562, -0.23242188, -0.18359375, 0.05102539, -0.7578125, -0.33398438, 0.44335938, 0.796875, -0.45703125, 0.265625, 0.62109375, 0.15234375, -0.2734375, -0.63671875, -0.20800781, 0.73046875, -0.16015625, 0.084472656, -0.5078125, 0.515625, 0.54296875, -0.42382812, 0.22558594, 0.76171875, 0.5390625, -0.18359375, 0.20214844, 0.8515625, -0.78515625, 0.28320312, -0.017456055, -0.2890625, 0.33398438, -0.06933594, -0.45117188, -0.19921875, -0.3515625, -0.18652344, -0.12890625, -0.76171875, -1.2890625, -0.041748047, 0.66015625, 0.21875, 0.390625, 0.28125, 0.026000977, -0.3671875, 0.80859375, -0.049072266, 0.765625, -0.017578125, 0.040527344, 0.41992188, -0.69140625, -0.020629883, 0.09765625, -0.47460938, 0.23144531, -0.43359375, 0.015991211, -0.03881836, -0.040771484, -0.084472656, 0.10839844, 0.3671875, -0.03540039, -0.0061950684, 0.09765625, 0.87109375, -0.41210938, -0.265625, -0.26367188, 0.0134887695, 0.064941406, 0.48632812, -0.23339844, -0.26757812, 0.765625, 0.39648438, -0.11621094, -0.29101562, 0.07714844, 0.20410156, 0.703125, -0.328125, 0.11816406, -0.015625, -0.83984375, -0.07910156, 0.024291992, -0.28125, -0.14257812, -0.40039062, 0.2734375, 0.21777344, 0.15722656, -0.072753906, -0.106933594, -0.07421875, 0.234375, -0.4375, -0.06689453, 0.013183594, 0.80859375, 0.13183594, 0.92578125, 0.18164062, 0.36132812, 0.20898438, 0.30273438, 0.1328125, 0.34179688, 0.29296875, 0.053710938, -0.020507812, -0.52734375, -0.5546875, 0.061523438, -0.72265625, 0.14453125, 0.0703125, 0.09033203, 0.013366699, -0.21386719, -0.036132812, -0.40820312, 0.16992188, -0.140625, -0.19042969, -0.21386719, 0.88671875, -0.27734375, -0.021484375, -0.52734375, -0.25976562, -0.671875, -0.703125, 0.08984375, 1.5859375, -0.40820312, 0.14648438, -0.265625, -0.578125, 0.12207031, -0.6796875, 0.4609375, -0.76953125, -0.68359375, -0.7421875, -0.21582031, -0.22070312, 0.0021972656, 0.12890625, 0.73828125, 0.296875, -0.6328125, 0.47460938, -0.6875, 0.21484375, -0.48632812, -0.58984375, -1.2578125, -0.00390625, 0.55859375, -0.37109375, -0.27929688, 0.13085938, 0.43945312, -0.00017261505, -0.5625, 0.43945312, 1.0625, -0.06738281, 0.028686523, -0.17480469, -0.68359375, 0.09863281, 0.14355469, 0.33007812, 0.31054688, -0.31640625, 0.12792969, 0.76171875, 0.046142578, 0.3828125, 0.43945312, 0.42578125, -0.106933594, -0.12695312, 0.14355469, -0.43945312, 0.19335938, -0.27148438, 0.375, -0.36523438, -0.39648438, 0.39453125, 0.46289062, 0.515625, -0.625, -1.1484375, 0.921875, -0.453125, -0.032958984, -0.5078125, -0.21191406, 0.107421875, 0.62109375, -0.25390625, 0.18554688, -0.86328125, -0.05029297, 0.578125, 0.018676758, -0.09472656, -0.546875, 0.16601562, -0.26953125, -0.65234375, -0.54296875, -0.40820312, 0.26757812, 0.11767578, -0.28515625, -0.3671875, -0.34960938, -0.22070312, 0.27539062, -0.55078125, 0.73828125, -0.62890625, -0.48632812, -0.08154297, 0.1484375, -0.39257812, -0.35351562, 0.27148438, 0.14355469, -0.36328125, 0.29296875, -0.22070312, 0.609375, 0.06225586, -0.6640625, 0.58984375, 0.56640625, 0.04272461, 1.15625, 0.21484375, -1.0234375, 0.37304688, -0.4296875, -0.07080078, -0.07763672, 0.24121094, -0.3125, 0.029296875, 0.5, -0.453125, 0.16601562, 0.26757812, -0.39453125, -0.53515625, 0.10644531, -0.375, -0.7421875, 0.16601562, 0.36523438, 0.051757812, -1.15625, 0.46679688, -0.11816406, -0.13769531, -0.15722656, 0.34570312, 0.068359375, -0.47851562, 0.34765625, -0.7421875, -0.48828125, -0.59375, -0.100097656, 0.32421875, -0.86328125, 0.06225586, -0.5078125, -1.8359375, -0.16113281, -0.13378906, 0.12207031, -0.17382812, -0.25585938, 0.22363281, 0.25585938, -0.34765625, 0.16796875, -0.14648438, -0.16992188, -0.26953125, -1.484375, 0.390625, 0.10498047, -0.66015625, 0.8125, -0.35546875, 0.5546875, 0.4296875, -0.734375, 0.024414062, 0.06689453, -0.37890625, -0.61328125, 0.40234375, 0.061767578, -0.34179688, -0.7890625, 0.7734375, 0.9921875, -0.27929688, 0.27734375, 0.016601562, -0.056152344, 0.35742188, 0.05053711, 0.20605469, -0.19628906, 0.091796875, -0.20117188, 0.46289062, 0.38085938, -0.62109375, -0.2578125, -0.51953125, 0.071777344, 0.35351562, -0.19335938, 0.8359375, -0.16601562, -0.22167969, 0.07861328, -0.067871094, 0.22851562, 0.064453125, -0.953125, 1.125, 0.08984375, -0.5078125, 0.17578125, 0.014953613, 0.1640625, -0.89453125, -0.75390625, 0.95703125, -0.30859375, -0.47265625, 0.046875, -0.65625, 0.61328125, 0.19921875, -1.0, -0.07519531, 0.72265625, -0.24804688, 0.65234375, 0.7578125, 0.8984375, 0.5078125, 1.0, -0.28320312, 0.15527344, -0.14257812, 0.5625, -0.7265625, -0.006500244, -0.015319824, -0.59375, -0.33984375, 0.69921875, -0.40820312, 0.115722656, 0.21386719, -0.07910156, -0.22167969, 0.24121094, 0.4921875, -0.54296875, 0.22070312, 0.08203125, -0.4140625, 0.17089844, 0.5234375, 0.14648438, -0.060546875, 0.07519531, 0.5859375, -0.19921875, 0.46875, -0.55078125, -0.25195312, 0.76953125, 0.048339844, -0.81640625, -0.17578125, 0.9140625, 0.42773438, 0.45117188, 0.24804688, -0.453125, 0.30078125, 0.11669922, 0.03112793, -0.22753906, 0.10205078, -0.37890625, -0.32226562, -0.24023438, 0.5, 0.2109375, -0.1640625, 0.59375, 0.25, 0.38671875, -0.26953125, 0.5546875, 0.18652344, -0.15429688, -0.40820312, -0.26367188, 0.16308594, 0.40234375, 0.1640625, 0.703125, -0.7578125, 0.609375, -0.33789062, -0.17285156, 0.24609375, -0.3828125, -0.38867188, -0.095214844, -0.037597656, -0.37109375, -0.37109375, 0.2578125, 0.359375, 0.4453125, -0.4140625, 0.037109375, 0.5, 0.076660156, 0.2578125, 0.023071289, 0.41210938, 0.04345703, 0.81640625, 0.078125, -0.072753906, 0.37304688, 0.26757812, 0.053222656, 0.5078125, -0.2734375, -0.017456055, -0.079589844, 0.111328125, 0.10986328, 0.27734375, -0.21972656, -0.26953125, 0.010070801, 0.43164062, 0.22070312, -0.30859375, 0.06982422, 0.0018692017, 0.0703125, -0.69921875, -0.25390625, -0.40234375, 0.08105469, -0.05126953, 0.63671875, 0.37890625, -0.40625, -0.31640625, 0.28710938, -0.071777344, -0.06225586, -0.3359375, 0.29296875, 0.22460938, 0.75390625, -0.013671875, 0.8515625, -0.13964844, -0.41796875, 0.15625, 0.003189087, 0.1328125, -0.31835938, -0.13769531, -0.125, -0.01184082, -0.28125, 0.3203125, -0.13964844, -0.025146484, 0.22460938, -0.3984375, -0.3046875, 0.33789062, 0.20996094, 0.45703125, -0.30859375, -0.32421875, 0.125, 0.16992188, 0.06689453, -0.29296875, 0.3671875, 0.609375, -0.03564453, 0.80078125, -0.33398438, -0.64453125, -0.640625, 0.484375, 0.28515625, -0.012023926, 0.008544922, 0.20800781, -0.37890625, 1.1328125, -0.22851562, -0.38476562, 0.8125, -0.76953125, 0.49023438, -0.063964844, -0.36132812, -0.09326172, 0.07373047, -0.051513672, 0.026000977, -0.16601562, 0.40820312, 0.609375, -0.26953125, -0.10107422, -0.28125, 0.47460938, 0.1328125, -0.41015625, -0.45117188, 0.671875, -0.17382812, -0.4609375, 0.25195312, 1.078125, 0.46679688, -0.34765625, 0.546875, 0.29492188, 0.096191406, 0.65234375, 0.921875, -0.546875, 0.27539062, -0.057373047, 0.040771484, -0.55859375, 0.71484375, -0.30859375, 0.09423828, 0.40820312, 0.068847656, 0.48046875, -0.26367188, 0.29101562, 0.12890625, -0.18066406, 0.33789062, -0.079589844, -0.43554688, 0.49804688, -0.07080078, -0.3046875, 1.4375, -0.40625, -0.62109375, 0.1875, -0.71484375, -0.171875, -0.81640625, 0.072265625, -1.1484375, 0.12695312, -0.42578125, -0.20605469, 0.33398438, 0.44140625, -0.091796875, -0.110839844, 0.62109375, 0.84375, 0.19726562, -0.3359375, 0.42382812, 1.65625, 0.37695312, -0.46875, 0.20019531, -0.5, 0.0003299713, 0.15332031, 0.33203125, -0.2734375, -0.2890625, 0.16699219, -0.19042969, -0.05126953, 0.059326172, 0.50390625, 0.25585938, -0.09277344, 0.0022735596, -0.33203125, -0.42578125, 0.39453125, -0.46679688, 0.34179688, 0.37890625, -0.02722168, 0.30664062, 0.30078125, -0.10546875, -0.859375, 0.091308594, -0.6875, -0.18359375, -0.33007812, -0.2421875, -1.0078125, 0.16796875, -0.56640625, -0.54296875, -0.10107422, 0.15625, 0.28515625, -0.39257812, 0.088378906, -0.14648438, -0.390625, -0.22460938, -0.028686523, -0.51953125, -0.40039062, 0.19824219, -0.33007812, 0.072753906, -0.23535156, -0.21289062, 0.49414062, -0.21972656, -0.14453125, 0.09472656, 0.81640625, 0.76171875, -0.70703125, 0.47851562, 0.036865234, -1.09375, -0.44921875, 0.609375, -0.008850098, -0.29296875, -0.28125, -0.6015625, 0.072265625, -0.13574219, 0.23535156, -0.49609375, 0.1484375, 0.0859375, -0.73046875, 0.43554688, -0.012878418, 0.17089844, -0.14257812, 0.5, 0.09765625, 0.43945312, -0.62109375, -0.24707031, -0.44921875, -0.14648438, 0.20703125, -0.095214844, 0.640625, 0.51953125, -0.6796875, -0.18652344, -0.048583984, -0.45703125, 0.04272461, -0.68359375, 0.06738281, -0.010437012, 0.34570312, -0.31445312, -0.16015625, 0.06933594, 0.31640625, 0.2578125, -0.33984375, 0.3046875, 0.044677734, -0.17382812, 0.26757812, -0.15234375, 0.0005950928, 0.66796875, 0.18652344, -0.25, 0.27539062, 0.40625, -0.4609375, 0.1015625, -0.09326172, 0.6796875, -0.15820312, -0.27148438, -0.27734375, 0.43164062, 0.48632812, -0.20410156, 0.44335938, 1.03125, -0.25390625, 0.35351562, 0.14355469, 0.13183594, 0.25390625, 0.265625, -0.16503906, 0.41992188, -0.084472656, -0.037353516, -0.65234375, -0.07470703, -0.17480469, 1.1796875, 0.31054688, -0.17480469, 0.24414062, -0.71484375, 0.115234375, -0.12451172, 0.703125, 0.21875, -0.41015625, 0.40820312, -0.02355957, 0.51953125, -0.546875, 0.028442383, 0.3046875, -0.27539062, 0.43945312, -0.53125, -0.46679688, 0.030395508, -0.32226562, 0.36328125, -0.45703125, -0.99609375, 0.14648438, 0.044189453, -0.17578125, 0.25976562, 0.07470703, 0.24707031, 0.20605469, 0.0021209717, -0.025390625, 0.014953613, 0.5625, 0.171875, -0.51953125, -0.9609375, -0.13671875, 0.22851562, 0.33007812, -0.23925781, -0.3515625, -0.296875, -0.38867188, 0.026000977, 0.52734375, -0.55859375, 0.10449219, 0.94140625, -0.25976562, -0.22167969, -0.10253906, 0.2890625, -0.08544922, -0.47070312, 0.075683594, 0.73046875, -0.25976562, -0.18457031, -0.5078125, 0.036865234, 0.10546875, -0.1015625, -0.39257812, 0.77734375, -0.38085938, -0.0012207031, 0.14648438, 0.328125, -0.75, 0.16992188, 0.38867188, -0.5234375, 0.096191406, -0.375, 0.39257812, 0.011962891, 1.1875, -0.34179688, -0.008117676, 0.79296875, -0.037109375, 0.05053711, -1.328125, 0.3125, -0.015136719, -0.65234375, 0.19433594, 0.49609375, 1.3671875, -0.734375, -0.9375, 0.25, -0.9765625, -0.37890625, 0.35351562, 0.6953125, 0.43945312, 0.063964844, -1.0234375, 0.28515625, 0.27539062, 0.18652344, 0.45507812, -0.609375, 0.21679688, -0.096191406, -0.041015625, -0.22167969, -0.37109375, 0.22363281, -0.41992188, 0.6796875, 0.48828125, -0.12158203, -0.40234375, -0.12597656, 0.1953125, -0.06982422, -0.5546875, -0.49609375, 0.828125, -1.328125, -0.25976562, -1.296875, -0.71875, 0.41015625, 0.84375, -0.43164062, -0.06298828, -0.0390625, 0.026123047, 0.23632812, -0.13671875, -0.20605469, 0.23242188, 0.04272461, -1.015625, -0.37695312, 0.51953125, -0.30273438, -0.8359375, 0.048095703, -0.13964844, -0.036376953, -0.37109375, -0.19433594, 0.0390625, -0.13769531, 0.75, -0.25585938, -0.5390625, 0.2734375, 0.82421875, 0.1953125, -0.030395508, -1.34375, -0.93359375, -0.453125, -0.39648438, -0.46289062, 0.31445312, -0.020019531, -0.47851562, 0.041992188, -0.21777344, -0.5234375, -0.5234375, -0.22558594, -0.30078125, 0.578125, -0.025024414, 0.60546875, -0.39648438, 0.51171875, -0.99609375, 0.203125, -0.53515625, 0.70703125, 0.33007812, 0.32226562, -0.265625, -0.07324219, 0.24316406, -0.28320312, -0.33984375, 0.1875, 0.052246094, -0.60546875, -0.31835938, 0.19433594, -0.82421875, 0.86328125, -0.32226562, 0.26367188, -0.546875, -0.2890625, -0.86328125, -0.5234375, 0.072753906, -0.15234375, -0.71875, 0.3359375, -0.359375, 0.088378906, 0.68359375, 0.375, 0.34179688, -0.28515625, 0.796875, -0.96484375, 0.71484375, 0.10986328, -0.30664062, -0.0859375, 0.84765625, 0.118652344, 0.0028381348, -0.52734375, -1.1015625, 0.38476562, -0.328125, -0.24316406, -0.625, -0.390625, 0.0013809204, 0.609375, -0.3203125, 0.44335938, 0.421875, -0.16894531, 0.75, 0.6796875, -0.19824219, 0.4375, 0.33398438, -0.8984375, -0.17871094, 0.65625, -0.33984375, -0.40625, -0.41796875, 0.04345703, -0.34765625, 0.7578125, -0.044677734, 0.03515625, -0.31445312, 0.47265625, 0.19921875, 0.14160156, 0.49804688, -1.0703125, 0.075683594, -0.171875, 1.078125, -0.14160156, 0.16210938, -0.47265625, -1.0234375, 0.037109375, 0.84375, -0.38671875, 0.6171875, 0.34179688, -0.27539062, -0.1484375, 0.44140625, 0.23828125, 0.26953125, -0.25, -0.20800781, -0.32617188, -0.6015625, 0.055419922, -0.046875, 0.21679688, -0.41210938, 0.55078125, -0.23925781, -0.024414062, -0.41210938, -0.83203125, 0.3125, -0.11035156, 0.3046875, -0.4609375, 0.52734375, -0.14453125, 0.47265625, -0.15136719, 0.78125, -0.33007812, -0.796875, 0.06347656, -0.8515625, -0.11621094, 0.40234375, -0.17089844, -0.064941406, 0.453125, 0.40234375, -0.18261719, 0.36132812, 1.0625, -0.10986328, 0.30078125, 0.515625, -0.80859375, -0.609375, 0.032470703, -0.4140625, 0.28320312, 0.890625, 0.40234375, -0.7578125, -0.033691406, 0.37890625, -0.2890625, 0.3203125, -0.36914062, -0.83984375, 0.0074768066, -1.0703125, 0.7265625, 0.421875, -0.010559082, 0.4453125, -1.0234375, -0.30859375, 0.22363281, 0.15039062, -0.296875, -0.47070312, -0.008056641, -0.040527344, 0.10644531, 0.609375, 0.24902344, -0.092285156, -0.43554688, 0.12158203, -0.46289062, -0.008483887, 0.5234375, -0.14257812, -0.21484375, -0.11376953, -0.114746094, 0.25585938, -0.12792969, -0.3671875, -0.36523438, -0.31835938, 0.38867188, 0.6796875, -0.5234375, 0.32421875, 0.048339844, -0.546875, 0.6875, 0.33203125, -0.024658203, -0.052734375, 0.18261719, 0.53125, -0.16699219, -0.24121094, 0.40625, -0.055664062, -0.17382812, 0.51953125, -0.24902344, -0.21191406, 0.08496094, -0.0045166016, 0.125, 0.73828125, 1.0, 0.087402344, 0.032714844, 0.8203125, -0.75, 0.671875, 0.030273438, 0.14257812, 1.203125, 0.018554688, -0.32226562, -0.5234375, -0.59375, -0.020507812, 0.45703125, 0.33984375, 0.69921875, 0.8984375, -0.40039062, 0.86328125, -0.100097656, -0.80859375, 0.7265625, 0.036132812, 0.25976562, 0.1796875, 0.765625, -0.26953125, -0.56640625, -0.46484375, 0.14453125, -0.328125, 0.19726562, 0.73046875, 0.70703125, 0.03930664, -0.11328125, 0.18554688, 0.072265625, -0.2734375, -1.5703125, 0.31445312, 0.38671875, -0.013977051, -0.484375, 0.56640625, 0.26171875, 0.4140625, 0.36523438, -0.54296875, 0.66796875, 0.4921875, 0.036621094, 0.33203125, -1.3125, 0.088378906, -0.7265625, 0.18164062, 0.62890625, 0.5390625, 0.13671875, -0.953125, 1.6015625, -0.30273438, -0.359375, 0.17675781, 0.22265625, -0.7734375, 1.3203125, 0.14257812, -0.016479492, 0.20410156, -0.4140625, -0.080566406, 0.118652344, -0.83984375, 0.00016307831]\n"
     ]
    }
   ],
   "source": [
    "import json\n",
    "import boto3\n",
    "\n",
    "bedrock = boto3.client(\n",
    "    service_name='bedrock-runtime'\n",
    ")\n",
    "\n",
    "modelId = 'amazon.titan-embed-text-v1'\n",
    "accept = 'application/json'\n",
    "contentType = 'application/json'\n",
    "prompt = \"\"\"\n",
    "hello\n",
    "\"\"\"\n",
    "input = {\n",
    "        'inputText': prompt\n",
    "    }\n",
    "body=json.dumps(input)\n",
    "response = bedrock.invoke_model(\n",
    "    body=body, modelId=modelId, accept=accept,contentType=contentType)\n",
    "response_body = json.loads(response.get('body').read())\n",
    "embedding = response_body['embedding']\n",
    "print(embedding)\n"
   ]
  },
  {
   "cell_type": "code",
   "execution_count": 6,
   "id": "7a8760ba-0389-4dc3-8adc-c404d9f94252",
   "metadata": {
    "tags": []
   },
   "outputs": [
    {
     "name": "stdout",
     "output_type": "stream",
     "text": [
      "1536\n"
     ]
    }
   ],
   "source": [
    "size = len(embedding)\n",
    "print(size)\n"
   ]
  },
  {
   "cell_type": "markdown",
   "id": "6157e159-be74-42bd-9b76-3f3d80d1fd04",
   "metadata": {},
   "source": [
    "-Distância Euclidiana\n",
    "que a medida da distância entre dois pontos em um espaço euclidiano\n"
   ]
  },
  {
   "cell_type": "code",
   "execution_count": 7,
   "id": "e3e75be8-c5c3-4150-b9ad-7e5b2c950ef8",
   "metadata": {
    "tags": []
   },
   "outputs": [
    {
     "name": "stdout",
     "output_type": "stream",
     "text": [
      "23.33325186409251\n"
     ]
    }
   ],
   "source": [
    "import json\n",
    "import boto3\n",
    "import math\n",
    "\n",
    "def get_embedding(bedrock, text):\n",
    "    modelId = 'amazon.titan-embed-text-v1'\n",
    "    accept = 'application/json'\n",
    "    contentType = 'application/json'\n",
    "    input = {\n",
    "            'inputText': text\n",
    "        }\n",
    "    body=json.dumps(input)\n",
    "    response = bedrock.invoke_model(\n",
    "        body=body, modelId=modelId, accept=accept,contentType=contentType)\n",
    "    response_body = json.loads(response.get('body').read())\n",
    "    embedding = response_body['embedding']\n",
    "    return embedding\n",
    "\n",
    "def calculate_distance(v1, v2):\n",
    "    distance = math.dist(v1, v2)\n",
    "    return distance\n",
    "\n",
    "# main function\n",
    "bedrock = boto3.client(\n",
    "    service_name='bedrock-runtime'\n",
    ")\n",
    "text1 = 'hello'\n",
    "text2 = 'good day'\n",
    "v1 = get_embedding(bedrock, text1)\n",
    "v2 = get_embedding(bedrock, text2)\n",
    "distance = calculate_distance(v1, v2)\n",
    "print(distance)\n"
   ]
  },
  {
   "cell_type": "code",
   "execution_count": 8,
   "id": "eea4f410-0553-4e87-b24e-31b8266b6d71",
   "metadata": {
    "tags": []
   },
   "outputs": [
    {
     "name": "stdout",
     "output_type": "stream",
     "text": [
      "9.094554322587365\n",
      "23.33325186409251\n",
      "15.699801139590388\n",
      "20.948954281263347\n",
      "24.261418207910705\n",
      "25.30846242351385\n",
      "29.69741947688189\n",
      "26.700609050941793\n"
     ]
    }
   ],
   "source": [
    "# main function\n",
    "bedrock = boto3.client(\n",
    "    service_name='bedrock-runtime'\n",
    ")\n",
    "hello = get_embedding(bedrock, 'hello')\n",
    "texts = [\n",
    "    'hi',\n",
    "    'good day',\n",
    "    'greetings',\n",
    "    'how are you',\n",
    "    'what is your name',\n",
    "    \"let's go shopping\",\n",
    "    'what is general relativity',\n",
    "    'she sells sea shells on the sea shore'\n",
    "]\n",
    "for text in texts:\n",
    "    embedding = get_embedding(bedrock, text)\n",
    "    distance = calculate_distance(hello, embedding)\n",
    "    print(distance)\n"
   ]
  },
  {
   "cell_type": "markdown",
   "id": "fac45797-6ec4-4223-a506-3b65550fa5c3",
   "metadata": {},
   "source": [
    "Dot product similarity\n",
    "O produto escalar (ou produto ponto) é uma operação matemática que envolve dois vetores de igual comprimento. Ele retorna um único número. Em geometria euclidiana, o produto escalar das coordenadas cartesianas de dois vetores é amplamente utilizado. A fórmula do produto escalar é:\n",
    "u⋅v=∣u∣⋅∣v∣⋅cos(θ)"
   ]
  },
  {
   "cell_type": "code",
   "execution_count": 9,
   "id": "f40ebb37-c5e6-4443-b19f-ba7ff975e4ea",
   "metadata": {
    "tags": []
   },
   "outputs": [
    {
     "name": "stdout",
     "output_type": "stream",
     "text": [
      "245.3465466016232\n"
     ]
    }
   ],
   "source": [
    "import json\n",
    "import boto3\n",
    "from numpy import dot\n",
    "from numpy.linalg import norm\n",
    "\n",
    "def get_embedding(bedrock, text):\n",
    "    modelId = 'amazon.titan-embed-text-v1'\n",
    "    accept = 'application/json'\n",
    "    contentType = 'application/json'\n",
    "    input = {\n",
    "            'inputText': text\n",
    "        }\n",
    "    body=json.dumps(input)\n",
    "    response = bedrock.invoke_model(\n",
    "        body=body, modelId=modelId, accept=accept,contentType=contentType)\n",
    "    response_body = json.loads(response.get('body').read())\n",
    "    embedding = response_body['embedding']\n",
    "    return embedding\n",
    "\n",
    "def calculate_dot_product_similarity(v1, v2):\n",
    "    similarity = dot(v1, v2)\n",
    "    return similarity\n",
    "\n",
    "# main function\n",
    "bedrock = boto3.client(\n",
    "    service_name='bedrock-runtime'\n",
    ")\n",
    "text1 = 'hello'\n",
    "text2 = 'good day'\n",
    "v1 = get_embedding(bedrock, text1)\n",
    "v2 = get_embedding(bedrock, text2)\n",
    "similarity = calculate_dot_product_similarity(v1, v2)\n",
    "print(similarity)\n"
   ]
  },
  {
   "cell_type": "code",
   "execution_count": 10,
   "id": "70a54478-6249-4e05-9414-2d5c941e886d",
   "metadata": {
    "tags": []
   },
   "outputs": [
    {
     "name": "stdout",
     "output_type": "stream",
     "text": [
      "523.4078294500584\n",
      "245.3465466016232\n",
      "328.5758089531838\n",
      "218.5153600999188\n",
      "173.35412997474873\n",
      "127.174288252552\n",
      "69.75002899099037\n",
      "94.28087665222931\n"
     ]
    }
   ],
   "source": [
    "# main function\n",
    "bedrock = boto3.client(\n",
    "    service_name='bedrock-runtime'\n",
    ")\n",
    "hello = get_embedding(bedrock, 'hello')\n",
    "texts = [\n",
    "    'hi',\n",
    "    'good day',\n",
    "    'greetings',\n",
    "    'how are you',\n",
    "    'what is your name',\n",
    "    \"let's go shopping\",\n",
    "    'what is general relativity',\n",
    "    'she sells sea shells on the sea shore'\n",
    "]\n",
    "for text in texts:\n",
    "    embedding = get_embedding(bedrock, text)\n",
    "    similarity = calculate_dot_product_similarity(hello, embedding)\n",
    "    print(similarity)\n"
   ]
  },
  {
   "cell_type": "markdown",
   "id": "1ae99256-22ea-45a6-8e7c-cec391f5a2bc",
   "metadata": {},
   "source": [
    "Similaridade do coseno "
   ]
  },
  {
   "cell_type": "code",
   "execution_count": 12,
   "id": "4745a76e-5d9a-4022-8538-d3f586b46a84",
   "metadata": {
    "tags": []
   },
   "outputs": [
    {
     "name": "stdout",
     "output_type": "stream",
     "text": [
      "0.47547669109839213\n"
     ]
    }
   ],
   "source": [
    "import json\n",
    "import boto3\n",
    "from numpy import dot\n",
    "from numpy.linalg import norm\n",
    "\n",
    "def get_embedding(bedrock, text):\n",
    "    modelId = 'amazon.titan-embed-text-v1'\n",
    "    accept = 'application/json'\n",
    "    contentType = 'application/json'\n",
    "    input = {\n",
    "            'inputText': text\n",
    "        }\n",
    "    body=json.dumps(input)\n",
    "    response = bedrock.invoke_model(\n",
    "        body=body, modelId=modelId, accept=accept,contentType=contentType)\n",
    "    response_body = json.loads(response.get('body').read())\n",
    "    embedding = response_body['embedding']\n",
    "    return embedding\n",
    "\n",
    "def calculate_cousin_similarity(v1, v2):\n",
    "    similarity = dot(v1, v2)/(norm(v1)*norm(v2))\n",
    "    return similarity\n",
    "\n",
    "# main function\n",
    "bedrock = boto3.client(\n",
    "    service_name='bedrock-runtime'\n",
    ")\n",
    "text1 = 'hello'\n",
    "text2 = 'good day'\n",
    "v1 = get_embedding(bedrock, text1)\n",
    "v2 = get_embedding(bedrock, text2)\n",
    "similarity = calculate_cousin_similarity(v1, v2)\n",
    "print(similarity)\n"
   ]
  },
  {
   "cell_type": "code",
   "execution_count": 13,
   "id": "4a36a306-9d85-4241-b12c-49137e9ce523",
   "metadata": {
    "tags": []
   },
   "outputs": [
    {
     "name": "stdout",
     "output_type": "stream",
     "text": [
      "0.9268443924716357\n",
      "0.47547669109839213\n",
      "0.7481008999511818\n",
      "0.5187598232110757\n",
      "0.3777644972419649\n",
      "0.29329218796125756\n",
      "0.13715628607522645\n",
      "0.21532926299725408\n"
     ]
    }
   ],
   "source": [
    "# main function\n",
    "bedrock = boto3.client(\n",
    "    service_name='bedrock-runtime'\n",
    ")\n",
    "hello = get_embedding(bedrock, 'hello')\n",
    "texts = [\n",
    "    'hi',\n",
    "    'good day',\n",
    "    'greetings',\n",
    "    'how are you',\n",
    "    'what is your name',\n",
    "    \"let's go shopping\",\n",
    "    'what is general relativity',\n",
    "    'she sells sea shells on the sea shore'\n",
    "]\n",
    "for text in texts:\n",
    "    embedding = get_embedding(bedrock, text)\n",
    "    similarity = calculate_cousin_similarity(hello, embedding)\n",
    "    print(similarity)\n"
   ]
  },
  {
   "cell_type": "code",
   "execution_count": 14,
   "id": "0813af69-5e15-4242-ba68-bf1d30664dfd",
   "metadata": {
    "tags": []
   },
   "outputs": [
    {
     "name": "stdout",
     "output_type": "stream",
     "text": [
      "\n",
      "Every particle attracts every other particle in the universe with a force that is proportional to the product of their masses and inversely proportional to the square of the distance between their centers.\n",
      "\n"
     ]
    }
   ],
   "source": [
    "def search(dataset, v):\n",
    "    for item in dataset:\n",
    "        item['distance'] = calculate_distance(item['embedding'], v)\n",
    "    dataset.sort(key=lambda x: x['distance'])\n",
    "    return dataset[0]['text']\n",
    "    \n",
    "# main function\n",
    "bedrock = boto3.client(\n",
    "    service_name='bedrock-runtime'\n",
    ")\n",
    "# the data set\n",
    "t1 = \"\"\"\n",
    "The theory of general relativity says that the observed gravitational effect between masses results from their warping of spacetime. \n",
    "\"\"\"\n",
    "t2 = \"\"\"\n",
    "Quantum mechanics allows the calculation of properties and behaviour of physical systems. It is typically applied to microscopic systems: molecules, atoms and sub-atomic particles. \n",
    "\"\"\"\n",
    "t3 = \"\"\"\n",
    "Wavelet theory is essentially the continuous-time theory that corresponds to dyadic subband transforms — i.e., those where the L (LL) subband is recursively split over and over.\n",
    "\"\"\"\n",
    "t4 = \"\"\"\n",
    "Every particle attracts every other particle in the universe with a force that is proportional to the product of their masses and inversely proportional to the square of the distance between their centers.\n",
    "\"\"\"\n",
    "t5 = \"\"\"\n",
    "The electromagnetic spectrum is the range of frequencies (the spectrum) of electromagnetic radiation and their respective wavelengths and photon energies. \n",
    "\"\"\"\n",
    "dataset = [\n",
    "    {'text': t1, 'embedding': get_embedding(bedrock, t1)}, \n",
    "    {'text': t2, 'embedding': get_embedding(bedrock, t2)}, \n",
    "    {'text': t3, 'embedding': get_embedding(bedrock, t3)}, \n",
    "    {'text': t4, 'embedding': get_embedding(bedrock, t4)}, \n",
    "    {'text': t5, 'embedding': get_embedding(bedrock, t5)}\n",
    "]\n",
    "# perform a search for Albert Einstein\n",
    "query = 'Isaac Newton'\n",
    "v = get_embedding(bedrock, query)              \n",
    "result = search(dataset, v)\n",
    "print(result)\n"
   ]
  },
  {
   "cell_type": "markdown",
   "id": "5a9052ea-b6ae-4a5a-b530-409c1cd7fe02",
   "metadata": {},
   "source": [
    "classification "
   ]
  },
  {
   "cell_type": "code",
   "execution_count": 15,
   "id": "47f4a3d2-c033-4e8f-9624-5899743ee90f",
   "metadata": {
    "tags": []
   },
   "outputs": [
    {
     "name": "stdout",
     "output_type": "stream",
     "text": [
      "magician\n"
     ]
    }
   ],
   "source": [
    "def classify(classes, v):\n",
    "    for item in classes:\n",
    "        item['distance'] = calculate_distance(item['embedding'], v)\n",
    "    classes.sort(key=lambda x: x['distance'])\n",
    "    return classes[0]['name']\n",
    "    \n",
    "# main function\n",
    "bedrock = boto3.client(\n",
    "    service_name='bedrock-runtime'\n",
    ")\n",
    "# the data set\n",
    "classes = [    \n",
    "    {'name': 'athletics', 'description': 'all students with a talent in sports'}, \n",
    "    {'name': 'musician', 'description': 'all students with a talent in music'}, \n",
    "    {'name': 'magician', 'description': 'all students with a talent in witch craft'}\n",
    "]\n",
    "for item in classes:\n",
    "    item['embedding'] = get_embedding(bedrock, item['description'])\n",
    "# perform a classification\n",
    "query = 'Ellison sends a spell to prevent Professor Wang from entering the classroom'\n",
    "v = get_embedding(bedrock, query)              \n",
    "result = classify(classes, v)\n",
    "print(result)\n"
   ]
  },
  {
   "cell_type": "markdown",
   "id": "2aec5dbb-87a5-4622-afca-953e2cc0fc90",
   "metadata": {},
   "source": [
    "When we look at the following name list, we know some of them are physicists and some of them are musicians. However, if we randomly pick some names from two other fields that we are not familiar with, how can we correctly allocate those names into two groups without knowing what the groups are?\n",
    "\n",
    "names = ['Albert Einstein', 'Bob Dylan', 'Elvis Presley', \n",
    "         'Isaac Newton', 'Michael Jackson', 'Niels Bohr', \n",
    "         'Taylor Swift', 'Hank Williams', 'Werner Heisenberg', \n",
    "         'Stevie Wonder', 'Marie Curie', 'Ernest Rutherford']\n",
    "Clustering is a technique to identify hidden groupings in data, with K-means clustering being a commonly used clustering algorithm. Here “K” refers to the number of groups, which is a hyper-parameter determined by a human. Once the number of groups are determined, documents close to each other are said to belong to the same group.\n"
   ]
  },
  {
   "cell_type": "code",
   "execution_count": 16,
   "id": "aa5e05ae-d090-4aee-8daa-d568532c4a43",
   "metadata": {
    "tags": []
   },
   "outputs": [
    {
     "name": "stdout",
     "output_type": "stream",
     "text": [
      "    cluster              names\n",
      "0         1    Albert Einstein\n",
      "1         0          Bob Dylan\n",
      "2         0      Elvis Presley\n",
      "3         1       Isaac Newton\n",
      "4         0    Michael Jackson\n",
      "5         1         Niels Bohr\n",
      "6         0       Taylor Swift\n",
      "7         0      Hank Williams\n",
      "8         1  Werner Heisenberg\n",
      "9         0      Stevie Wonder\n",
      "10        1        Marie Curie\n",
      "11        1  Ernest Rutherford\n"
     ]
    }
   ],
   "source": [
    "import json\n",
    "import boto3\n",
    "import numpy as np\n",
    "import pandas as pd\n",
    "from sklearn.cluster import KMeans\n",
    "\n",
    "def get_embedding(bedrock, text):\n",
    "    modelId = 'amazon.titan-embed-text-v1'\n",
    "    accept = 'application/json'\n",
    "    contentType = 'application/json'\n",
    "    input = {\n",
    "            'inputText': text\n",
    "        }\n",
    "    body=json.dumps(input)\n",
    "    response = bedrock.invoke_model(\n",
    "        body=body, modelId=modelId, accept=accept,contentType=contentType)\n",
    "    response_body = json.loads(response.get('body').read())\n",
    "    embedding = response_body['embedding']\n",
    "    return embedding\n",
    "\n",
    "# main function\n",
    "bedrock = boto3.client(\n",
    "    service_name='bedrock-runtime'\n",
    ")\n",
    "names = ['Albert Einstein', 'Bob Dylan', 'Elvis Presley', \n",
    "         'Isaac Newton', 'Michael Jackson', 'Niels Bohr', \n",
    "         'Taylor Swift', 'Hank Williams', 'Werner Heisenberg', \n",
    "         'Stevie Wonder', 'Marie Curie', 'Ernest Rutherford']\n",
    "embeddings = []\n",
    "for name in names:\n",
    "    embeddings.append(get_embedding(bedrock, name))\n",
    "# clustering\n",
    "df = pd.DataFrame(data={'names': names, 'embeddings': embeddings})\n",
    "matrix = np.vstack(df.embeddings.values)\n",
    "n_clusters = 2\n",
    "kmeans = KMeans(n_clusters = n_clusters, init='k-means++', random_state=42)\n",
    "kmeans.fit(matrix)\n",
    "df['cluster'] = kmeans.labels_\n",
    "# result\n",
    "print(df[['cluster', 'names']])\n"
   ]
  },
  {
   "cell_type": "markdown",
   "id": "eb48d824-3a13-4871-bd5e-dc3c48d6e0f4",
   "metadata": {},
   "source": [
    "You might wonder why we do not use the Euclidean distance any where in the calculation. We do, but it was all wrapped into the scikit-learn package. If we expose the details on how K-means clustering works this tutorial will become quite messy.\n",
    "\n",
    "To give you a better understanding of how clustering is done, you can use the following sample code to generate a 2D plot."
   ]
  },
  {
   "cell_type": "code",
   "execution_count": 17,
   "id": "e74b0639-4951-4f0f-b0b9-345ef692fb25",
   "metadata": {
    "tags": []
   },
   "outputs": [
    {
     "name": "stderr",
     "output_type": "stream",
     "text": [
      "/opt/conda/lib/python3.10/site-packages/sklearn/manifold/_t_sne.py:1162: FutureWarning: 'n_iter' was renamed to 'max_iter' in version 1.5 and will be removed in 1.7.\n",
      "  warnings.warn(\n"
     ]
    },
    {
     "data": {
      "image/png": "[encoded data removed]",
      "text/plain": [
       "<Figure size 640x480 with 1 Axes>"
      ]
     },
     "metadata": {},
     "output_type": "display_data"
    }
   ],
   "source": [
    "import seaborn as sns\n",
    "import matplotlib.pyplot as plt\n",
    "from sklearn.manifold import TSNE\n",
    "\n",
    "# Reduce number of dimensions from 1536 to 2\n",
    "tsne = TSNE(random_state=0, n_iter=1000, perplexity=6)\n",
    "tsne_results = tsne.fit_transform(np.array(df['embeddings'].to_list(), dtype=np.float32))\n",
    "# Add the results to dataframe as a new column\n",
    "df['tsne1'] = tsne_results[:, 0]\n",
    "df['tsne2'] = tsne_results[:, 1]\n",
    "\n",
    "# Plot the data and annotate the result\n",
    "fig, ax = plt.subplots()\n",
    "ax.set_title('Embeddings')\n",
    "sns.scatterplot(data=df, x='tsne1', y='tsne2', hue='cluster', ax=ax)\n",
    "for idx, row in df.iterrows():\n",
    "    ax.text(row['tsne1'], row['tsne2'], row['names'], fontsize=6.5, horizontalalignment='center')\n",
    "\n",
    "plt.show()\n"
   ]
  },
  {
   "cell_type": "markdown",
   "id": "ef17b34d-5e3b-4474-81c7-62f3f6038827",
   "metadata": {},
   "source": [
    "Anomaly detection"
   ]
  },
  {
   "cell_type": "code",
   "execution_count": 18,
   "id": "70a40c95-c854-49cb-b4d8-13af7c9e3539",
   "metadata": {
    "tags": []
   },
   "outputs": [
    {
     "name": "stdout",
     "output_type": "stream",
     "text": [
      "Taylor Swift\n",
      "Lady Gaga\n"
     ]
    }
   ],
   "source": [
    "def find_outliers_by_count(dataset, count):\n",
    "    # find the center of mass\n",
    "    embeddings = []\n",
    "    for item in dataset:\n",
    "        embeddings.append(item['embedding'])\n",
    "    center = np.mean(embeddings, axis=0)\n",
    "    # calculate distance from center\n",
    "    for item in dataset:\n",
    "        item['distance'] = calculate_distance(item['embedding'], center)\n",
    "    # sort the distances in reverse order\n",
    "    dataset.sort(key=lambda x: x['distance'], reverse=True)\n",
    "    # return N outliers\n",
    "    return dataset[0:count]\n",
    "\n",
    "# main function\n",
    "bedrock = boto3.client(\n",
    "    service_name='bedrock-runtime'\n",
    ")\n",
    "names = ['Albert Einstein', 'Isaac Newton', 'Stephen Hawking', \n",
    "         'Galileo Galilei', 'Niels Bohr', 'Werner Heisenberg', \n",
    "         'Marie Curie', 'Ernest Rutherford', 'Michael Faraday', \n",
    "         'Richard Feynman', 'Lady Gaga', 'Erwin Schrödinger', \n",
    "         'Max Planck', 'Enrico Fermi', 'Taylor Swift', 'Lord Kelvin']\n",
    "dataset = []\n",
    "for name in names:\n",
    "    embedding = get_embedding(bedrock, name)\n",
    "    dataset.append({'name': name, 'embedding': embedding})\n",
    "outliers = find_outliers_by_count(dataset, 2)\n",
    "for item in outliers:\n",
    "    print(item['name'])\n"
   ]
  },
  {
   "cell_type": "code",
   "execution_count": 19,
   "id": "96135c05-6792-4d10-9ff3-d9e86bd50036",
   "metadata": {
    "tags": []
   },
   "outputs": [
    {
     "name": "stdout",
     "output_type": "stream",
     "text": [
      "Taylor Swift\n",
      "Lady Gaga\n",
      "Stephen Hawking\n"
     ]
    }
   ],
   "source": [
    "def find_outliers_by_percentage(dataset, percent):\n",
    "    # find the center of mass\n",
    "    embeddings = []\n",
    "    for item in dataset:\n",
    "        embeddings.append(item['embedding'])\n",
    "    center = np.mean(embeddings, axis=0)\n",
    "    # calculate distance from center\n",
    "    for item in dataset:\n",
    "        item['distance'] = calculate_distance(item['embedding'], center)\n",
    "    # sort the distances in reverse order\n",
    "    dataset.sort(key=lambda x: x['distance'], reverse=True)\n",
    "    # return top x% outliers\n",
    "    total = len(dataset)\n",
    "    count = math.floor(percent * total / 100)\n",
    "    return dataset[0:count]\n",
    "\n",
    "# change the main function to use find_outliers_by_distance()\n",
    "entries = find_outliers_by_percentage(dataset, 20)\n",
    "for item in entries:\n",
    "    print(item['name'])\n"
   ]
  },
  {
   "cell_type": "code",
   "execution_count": 20,
   "id": "441497ee-bd15-400d-a453-8c9fa0cdfe02",
   "metadata": {
    "tags": []
   },
   "outputs": [
    {
     "name": "stdout",
     "output_type": "stream",
     "text": [
      "Taylor Swift\n",
      "Lady Gaga\n"
     ]
    }
   ],
   "source": [
    "def find_outliers_by_distance(dataset, percent):\n",
    "    # find the center of mass\n",
    "    embeddings = []\n",
    "    for item in dataset:\n",
    "        embeddings.append(item['embedding'])\n",
    "    center = np.mean(embeddings, axis=0)\n",
    "    # calculate distance from center\n",
    "    for item in dataset:\n",
    "        item['distance'] = calculate_distance(item['embedding'], center)\n",
    "    # sort the distances in reverse order\n",
    "    dataset.sort(key=lambda x: x['distance'], reverse=True)\n",
    "    # return outliers beyond x% of max distance\n",
    "    max_distance = dataset[0]['distance']\n",
    "    min_distance = percent * max_distance / 100\n",
    "    outliers = []\n",
    "    for item in dataset:\n",
    "        if item['distance'] >= min_distance:\n",
    "            outliers.append(item)\n",
    "    return outliers\n",
    "\n",
    "# change the main function to use find_outliers_by_distance()\n",
    "entries = find_outliers_by_distance(dataset, 80)\n",
    "for item in entries:\n",
    "    print(item['name'])\n"
   ]
  },
  {
   "cell_type": "markdown",
   "id": "e706a3c8-3968-4b6e-a477-df485f7bf70b",
   "metadata": {},
   "source": [
    "Vector Databases"
   ]
  },
  {
   "cell_type": "code",
   "execution_count": 21,
   "id": "1ad12bd6-6da4-4df0-b708-de1e57b2032f",
   "metadata": {
    "tags": []
   },
   "outputs": [
    {
     "name": "stdout",
     "output_type": "stream",
     "text": [
      "Dataset created.\n"
     ]
    }
   ],
   "source": [
    "import json\n",
    "import boto3\n",
    "\n",
    "def get_embedding(bedrock, text):\n",
    "    modelId = 'amazon.titan-embed-text-v1'\n",
    "    accept = 'application/json'\n",
    "    contentType = 'application/json'\n",
    "    input = {\n",
    "            'inputText': text\n",
    "        }\n",
    "    body=json.dumps(input)\n",
    "    response = bedrock.invoke_model(\n",
    "        body=body, modelId=modelId, accept=accept,contentType=contentType)\n",
    "    response_body = json.loads(response.get('body').read())\n",
    "    embedding = response_body['embedding']\n",
    "    return embedding\n",
    "\n",
    "# main function\n",
    "bedrock = boto3.client(\n",
    "    service_name='bedrock-runtime'\n",
    ")\n",
    "# some random data\n",
    "people = ['Albert Einstein', 'Isaac Newton', 'Stephen Hawking', \n",
    "          'Galileo Galilei', 'Niels Bohr', 'Werner Heisenberg', \n",
    "          'Marie Curie', 'Ernest Rutherford', 'Michael Faraday', 'Richard Feynman']\n",
    "actions = ['plays basketball', 'teaches physics', 'sells sea shells', \n",
    "           'collects tax', 'drives buses', 'researches into gravity', \n",
    "           'manages a shop', 'supervises graduate students', \n",
    "           'works as a support engineer', 'runs a bank']\n",
    "places = ['London', 'Sydney', 'Los Angeles', 'San Francisco', 'Beijing', \n",
    "          'Cape Town', 'Paris', 'Cairo', 'New Delhi', 'Seoul']\n",
    "# create a data file\n",
    "count = 10000\n",
    "with open('dataset.json', 'w') as outfile:\n",
    "    for name in people:\n",
    "        for action in actions:\n",
    "            for place in places:\n",
    "                id   = count\n",
    "                text = '{name} {action} in {place}.'.format(name=name, action=action, place=place)\n",
    "                embedding = get_embedding(bedrock, text)\n",
    "                item = {'id': id, 'text': text, 'embedding': embedding}\n",
    "                json_object = json.dumps(item)\n",
    "                outfile.write(json_object + '\\n')\n",
    "                count = count + 1\n",
    "    print('Dataset created.')\n"
   ]
  },
  {
   "cell_type": "code",
   "execution_count": 22,
   "id": "5caf044d-6e25-4b1b-a867-9c5f98b32139",
   "metadata": {
    "tags": []
   },
   "outputs": [
    {
     "name": "stdout",
     "output_type": "stream",
     "text": [
      "51.099ms in calculating distances\n",
      "0.331ms in sorting distances\n",
      "Marie Curie sells sea shells in Los Angeles.\n"
     ]
    }
   ],
   "source": [
    "import json\n",
    "import boto3\n",
    "import math\n",
    "from datetime import datetime\n",
    "\n",
    "def get_embedding(bedrock, text):\n",
    "    modelId = 'amazon.titan-embed-text-v1'\n",
    "    accept = 'application/json'\n",
    "    contentType = 'application/json'\n",
    "    input = {\n",
    "            'inputText': text\n",
    "        }\n",
    "    body=json.dumps(input)\n",
    "    response = bedrock.invoke_model(\n",
    "        body=body, modelId=modelId, accept=accept,contentType=contentType)\n",
    "    response_body = json.loads(response.get('body').read())\n",
    "    embedding = response_body['embedding']\n",
    "    return embedding\n",
    "\n",
    "def load_dataset(filename):\n",
    "    dataset = []\n",
    "    with open(filename) as file:\n",
    "        for line in file:\n",
    "            dataset.append(json.loads(line))\n",
    "    return dataset\n",
    "\n",
    "def calculate_distance(v1, v2):\n",
    "    distance = math.dist(v1, v2)\n",
    "    return distance\n",
    "    \n",
    "def search(dataset, embedding):\n",
    "    t1 = datetime.now()\n",
    "    for item in dataset:\n",
    "        item['distance'] = calculate_distance(item['embedding'], embedding)\n",
    "    t2 = datetime.now()\n",
    "    delta = t2 - t1\n",
    "    ms1 = 1000 * delta.total_seconds()\n",
    "    dataset.sort(key=lambda x: x['distance'])\n",
    "    t3 = datetime.now()\n",
    "    delta = t3 - t2\n",
    "    ms2 = 1000 * delta.total_seconds()\n",
    "    print(str(ms1) + 'ms in calculating distances')\n",
    "    print(str(ms2) + 'ms in sorting distances')\n",
    "    return dataset[0]['text']\n",
    "\n",
    "# main function\n",
    "bedrock = boto3.client(\n",
    "    service_name='bedrock-runtime'\n",
    ")\n",
    "dataset = load_dataset('dataset.json')\n",
    "query   = 'Lady Gaga purchased a necklace in Singapore.'\n",
    "embedding = get_embedding(bedrock, query)\n",
    "result  = search(dataset, embedding)\n",
    "print(result)\n"
   ]
  },
  {
   "cell_type": "markdown",
   "id": "92527979-6fcd-4e1a-a430-2f1f15c1335f",
   "metadata": {},
   "source": [
    "pgvector"
   ]
  },
  {
   "cell_type": "code",
   "execution_count": 23,
   "id": "13f6a9f6-c647-4e6b-ace0-00cc8790a6d1",
   "metadata": {
    "tags": []
   },
   "outputs": [],
   "source": [
    "secret_name = 'bedrock-workshop-90433490'\n"
   ]
  },
  {
   "cell_type": "code",
   "execution_count": 24,
   "id": "39f41f24-ec62-4c43-a15d-1681b8970a4b",
   "metadata": {
    "tags": []
   },
   "outputs": [
    {
     "name": "stdout",
     "output_type": "stream",
     "text": [
      "Table created.\n"
     ]
    }
   ],
   "source": [
    "import json\n",
    "import boto3\n",
    "import psycopg2\n",
    "from botocore.exceptions import ClientError\n",
    "\n",
    "def get_secrets():\n",
    "    client = boto3.client(\n",
    "        service_name='secretsmanager',\n",
    "    )\n",
    "    try:\n",
    "        get_secret_value_response = client.get_secret_value(\n",
    "            SecretId=secret_name\n",
    "        )\n",
    "    except ClientError as e:\n",
    "        raise e\n",
    "    secrets = json.loads(get_secret_value_response['SecretString'])\n",
    "    return secrets\n",
    "    \n",
    "def load_dataset(filename):\n",
    "    dataset = []\n",
    "    with open(filename) as file:\n",
    "        for line in file:\n",
    "            dataset.append(json.loads(line))\n",
    "    return dataset\n",
    "    \n",
    "# main function\n",
    "secrets = get_secrets()\n",
    "conn = psycopg2.connect(\n",
    "    host=secrets['db_hostname'],\n",
    "    port=secrets['db_hostport'],\n",
    "    user=secrets['db_username'],\n",
    "    password=secrets['db_password'],\n",
    "    database=secrets['db_database']\n",
    ")\n",
    "cursor = conn.cursor()\n",
    "cursor.execute('CREATE EXTENSION vector')\n",
    "cursor.execute('CREATE TABLE dataset (id SERIAL, content TEXT, embedding VECTOR(1536))')\n",
    "conn.commit()\n",
    "print('Table created.')\n"
   ]
  },
  {
   "cell_type": "code",
   "execution_count": 25,
   "id": "243d923b-d3ca-49dd-b2c6-b13ab9f188d2",
   "metadata": {
    "tags": []
   },
   "outputs": [
    {
     "name": "stdout",
     "output_type": "stream",
     "text": [
      "Loaded data into table.\n"
     ]
    }
   ],
   "source": [
    "### Load sample data\n",
    "import json\n",
    "import boto3\n",
    "import psycopg2\n",
    "from botocore.exceptions import ClientError\n",
    "\n",
    "def get_secrets():\n",
    "    client = boto3.client(\n",
    "        service_name='secretsmanager',\n",
    "    )\n",
    "    try:\n",
    "        get_secret_value_response = client.get_secret_value(\n",
    "            SecretId=secret_name\n",
    "        )\n",
    "    except ClientError as e:\n",
    "        raise e\n",
    "    secrets = json.loads(get_secret_value_response['SecretString'])\n",
    "    return secrets\n",
    "    \n",
    "def load_dataset(filename):\n",
    "    dataset = []\n",
    "    with open(filename) as file:\n",
    "        for line in file:\n",
    "            dataset.append(json.loads(line))\n",
    "    return dataset\n",
    "    \n",
    "# main function\n",
    "secrets = get_secrets()\n",
    "conn = psycopg2.connect(\n",
    "    host=secrets['db_hostname'],\n",
    "    port=secrets['db_hostport'],\n",
    "    user=secrets['db_username'],\n",
    "    password=secrets['db_password'],\n",
    "    database=secrets['db_database']\n",
    ")\n",
    "cursor = conn.cursor()\n",
    "# populate the data into the database\n",
    "sql = 'INSERT INTO dataset (content, embedding) VALUES(%s, %s)'\n",
    "dataset = load_dataset('dataset.json')\n",
    "for item in dataset:\n",
    "    cursor.execute(sql, (item['text'], item['embedding']))\n",
    "conn.commit()\n",
    "print('Loaded data into table.')\n"
   ]
  },
  {
   "cell_type": "code",
   "execution_count": 27,
   "id": "d3c30ca6-db95-463d-85a1-8e006d1ed95d",
   "metadata": {
    "tags": []
   },
   "outputs": [
    {
     "name": "stdout",
     "output_type": "stream",
     "text": [
      "[(623, 'Marie Curie sells sea shells in Los Angeles.')]\n"
     ]
    }
   ],
   "source": [
    "## Perform a search \n",
    "import json\n",
    "import boto3\n",
    "import psycopg2\n",
    "from botocore.exceptions import ClientError\n",
    "from datetime import datetime\n",
    "\n",
    "def get_secrets():\n",
    "    client = boto3.client(\n",
    "        service_name='secretsmanager',\n",
    "    )\n",
    "    try:\n",
    "        get_secret_value_response = client.get_secret_value(\n",
    "            SecretId=secret_name\n",
    "        )\n",
    "    except ClientError as e:\n",
    "        raise e\n",
    "    secrets = json.loads(get_secret_value_response['SecretString'])\n",
    "    return secrets\n",
    "\n",
    "def get_embedding(bedrock, text):\n",
    "    modelId = 'amazon.titan-embed-text-v1'\n",
    "    accept = 'application/json'\n",
    "    contentType = 'application/json'\n",
    "    input = {\n",
    "            'inputText': text\n",
    "        }\n",
    "    body=json.dumps(input)\n",
    "    response = bedrock.invoke_model(\n",
    "        body=body, modelId=modelId, accept=accept,contentType=contentType)\n",
    "    response_body = json.loads(response.get('body').read())\n",
    "    embedding = response_body['embedding']\n",
    "    return embedding\n",
    "\n",
    "def search(bedrock, cursor, query, limit):\n",
    "    embedding = str(get_embedding(bedrock, query))\n",
    "    sql = 'SELECT id, content FROM dataset ORDER BY embedding <-> %s LIMIT %s'\n",
    "    cursor.execute(sql, (embedding, limit))\n",
    "    result = []\n",
    "    for row in cursor:\n",
    "        result.append(row)\n",
    "    return result\n",
    "    \n",
    "# main function\n",
    "bedrock = boto3.client(\n",
    "    service_name='bedrock-runtime'\n",
    ")\n",
    "secrets = get_secrets()\n",
    "conn = psycopg2.connect(\n",
    "    host=secrets['db_hostname'],\n",
    "    port=secrets['db_hostport'],\n",
    "    user=secrets['db_username'],\n",
    "    password=secrets['db_password'],\n",
    "    database=secrets['db_database']\n",
    ")\n",
    "cursor = conn.cursor()\n",
    "query   = 'Lady Gaga purchased a necklace in Singapore.'\n",
    "result = search(bedrock, cursor, query, 1)\n",
    "print(result)\n"
   ]
  },
  {
   "cell_type": "code",
   "execution_count": null,
   "id": "aa8cb558-e2a8-4cfb-820a-0005a4e85920",
   "metadata": {},
   "outputs": [],
   "source": [
    "region = 'us-west-2'\n",
    "host = 'https://********.********.aoss.amazonaws.com'\n"
   ]
  }
 ],
 "metadata": {
  "availableInstances": [
   {
    "_defaultOrder": 0,
    "_isFastLaunch": true,
    "category": "General purpose",
    "gpuNum": 0,
    "hideHardwareSpecs": false,
    "memoryGiB": 4,
    "name": "ml.t3.medium",
    "vcpuNum": 2
   },
   {
    "_defaultOrder": 1,
    "_isFastLaunch": false,
    "category": "General purpose",
    "gpuNum": 0,
    "hideHardwareSpecs": false,
    "memoryGiB": 8,
    "name": "ml.t3.large",
    "vcpuNum": 2
   },
   {
    "_defaultOrder": 2,
    "_isFastLaunch": false,
    "category": "General purpose",
    "gpuNum": 0,
    "hideHardwareSpecs": false,
    "memoryGiB": 16,
    "name": "ml.t3.xlarge",
    "vcpuNum": 4
   },
   {
    "_defaultOrder": 3,
    "_isFastLaunch": false,
    "category": "General purpose",
    "gpuNum": 0,
    "hideHardwareSpecs": false,
    "memoryGiB": 32,
    "name": "ml.t3.2xlarge",
    "vcpuNum": 8
   },
   {
    "_defaultOrder": 4,
    "_isFastLaunch": true,
    "category": "General purpose",
    "gpuNum": 0,
    "hideHardwareSpecs": false,
    "memoryGiB": 8,
    "name": "ml.m5.large",
    "vcpuNum": 2
   },
   {
    "_defaultOrder": 5,
    "_isFastLaunch": false,
    "category": "General purpose",
    "gpuNum": 0,
    "hideHardwareSpecs": false,
    "memoryGiB": 16,
    "name": "ml.m5.xlarge",
    "vcpuNum": 4
   },
   {
    "_defaultOrder": 6,
    "_isFastLaunch": false,
    "category": "General purpose",
    "gpuNum": 0,
    "hideHardwareSpecs": false,
    "memoryGiB": 32,
    "name": "ml.m5.2xlarge",
    "vcpuNum": 8
   },
   {
    "_defaultOrder": 7,
    "_isFastLaunch": false,
    "category": "General purpose",
    "gpuNum": 0,
    "hideHardwareSpecs": false,
    "memoryGiB": 64,
    "name": "ml.m5.4xlarge",
    "vcpuNum": 16
   },
   {
    "_defaultOrder": 8,
    "_isFastLaunch": false,
    "category": "General purpose",
    "gpuNum": 0,
    "hideHardwareSpecs": false,
    "memoryGiB": 128,
    "name": "ml.m5.8xlarge",
    "vcpuNum": 32
   },
   {
    "_defaultOrder": 9,
    "_isFastLaunch": false,
    "category": "General purpose",
    "gpuNum": 0,
    "hideHardwareSpecs": false,
    "memoryGiB": 192,
    "name": "ml.m5.12xlarge",
    "vcpuNum": 48
   },
   {
    "_defaultOrder": 10,
    "_isFastLaunch": false,
    "category": "General purpose",
    "gpuNum": 0,
    "hideHardwareSpecs": false,
    "memoryGiB": 256,
    "name": "ml.m5.16xlarge",
    "vcpuNum": 64
   },
   {
    "_defaultOrder": 11,
    "_isFastLaunch": false,
    "category": "General purpose",
    "gpuNum": 0,
    "hideHardwareSpecs": false,
    "memoryGiB": 384,
    "name": "ml.m5.24xlarge",
    "vcpuNum": 96
   },
   {
    "_defaultOrder": 12,
    "_isFastLaunch": false,
    "category": "General purpose",
    "gpuNum": 0,
    "hideHardwareSpecs": false,
    "memoryGiB": 8,
    "name": "ml.m5d.large",
    "vcpuNum": 2
   },
   {
    "_defaultOrder": 13,
    "_isFastLaunch": false,
    "category": "General purpose",
    "gpuNum": 0,
    "hideHardwareSpecs": false,
    "memoryGiB": 16,
    "name": "ml.m5d.xlarge",
    "vcpuNum": 4
   },
   {
    "_defaultOrder": 14,
    "_isFastLaunch": false,
    "category": "General purpose",
    "gpuNum": 0,
    "hideHardwareSpecs": false,
    "memoryGiB": 32,
    "name": "ml.m5d.2xlarge",
    "vcpuNum": 8
   },
   {
    "_defaultOrder": 15,
    "_isFastLaunch": false,
    "category": "General purpose",
    "gpuNum": 0,
    "hideHardwareSpecs": false,
    "memoryGiB": 64,
    "name": "ml.m5d.4xlarge",
    "vcpuNum": 16
   },
   {
    "_defaultOrder": 16,
    "_isFastLaunch": false,
    "category": "General purpose",
    "gpuNum": 0,
    "hideHardwareSpecs": false,
    "memoryGiB": 128,
    "name": "ml.m5d.8xlarge",
    "vcpuNum": 32
   },
   {
    "_defaultOrder": 17,
    "_isFastLaunch": false,
    "category": "General purpose",
    "gpuNum": 0,
    "hideHardwareSpecs": false,
    "memoryGiB": 192,
    "name": "ml.m5d.12xlarge",
    "vcpuNum": 48
   },
   {
    "_defaultOrder": 18,
    "_isFastLaunch": false,
    "category": "General purpose",
    "gpuNum": 0,
    "hideHardwareSpecs": false,
    "memoryGiB": 256,
    "name": "ml.m5d.16xlarge",
    "vcpuNum": 64
   },
   {
    "_defaultOrder": 19,
    "_isFastLaunch": false,
    "category": "General purpose",
    "gpuNum": 0,
    "hideHardwareSpecs": false,
    "memoryGiB": 384,
    "name": "ml.m5d.24xlarge",
    "vcpuNum": 96
   },
   {
    "_defaultOrder": 20,
    "_isFastLaunch": false,
    "category": "General purpose",
    "gpuNum": 0,
    "hideHardwareSpecs": true,
    "memoryGiB": 0,
    "name": "ml.geospatial.interactive",
    "supportedImageNames": [
     "sagemaker-geospatial-v1-0"
    ],
    "vcpuNum": 0
   },
   {
    "_defaultOrder": 21,
    "_isFastLaunch": true,
    "category": "Compute optimized",
    "gpuNum": 0,
    "hideHardwareSpecs": false,
    "memoryGiB": 4,
    "name": "ml.c5.large",
    "vcpuNum": 2
   },
   {
    "_defaultOrder": 22,
    "_isFastLaunch": false,
    "category": "Compute optimized",
    "gpuNum": 0,
    "hideHardwareSpecs": false,
    "memoryGiB": 8,
    "name": "ml.c5.xlarge",
    "vcpuNum": 4
   },
   {
    "_defaultOrder": 23,
    "_isFastLaunch": false,
    "category": "Compute optimized",
    "gpuNum": 0,
    "hideHardwareSpecs": false,
    "memoryGiB": 16,
    "name": "ml.c5.2xlarge",
    "vcpuNum": 8
   },
   {
    "_defaultOrder": 24,
    "_isFastLaunch": false,
    "category": "Compute optimized",
    "gpuNum": 0,
    "hideHardwareSpecs": false,
    "memoryGiB": 32,
    "name": "ml.c5.4xlarge",
    "vcpuNum": 16
   },
   {
    "_defaultOrder": 25,
    "_isFastLaunch": false,
    "category": "Compute optimized",
    "gpuNum": 0,
    "hideHardwareSpecs": false,
    "memoryGiB": 72,
    "name": "ml.c5.9xlarge",
    "vcpuNum": 36
   },
   {
    "_defaultOrder": 26,
    "_isFastLaunch": false,
    "category": "Compute optimized",
    "gpuNum": 0,
    "hideHardwareSpecs": false,
    "memoryGiB": 96,
    "name": "ml.c5.12xlarge",
    "vcpuNum": 48
   },
   {
    "_defaultOrder": 27,
    "_isFastLaunch": false,
    "category": "Compute optimized",
    "gpuNum": 0,
    "hideHardwareSpecs": false,
    "memoryGiB": 144,
    "name": "ml.c5.18xlarge",
    "vcpuNum": 72
   },
   {
    "_defaultOrder": 28,
    "_isFastLaunch": false,
    "category": "Compute optimized",
    "gpuNum": 0,
    "hideHardwareSpecs": false,
    "memoryGiB": 192,
    "name": "ml.c5.24xlarge",
    "vcpuNum": 96
   },
   {
    "_defaultOrder": 29,
    "_isFastLaunch": true,
    "category": "Accelerated computing",
    "gpuNum": 1,
    "hideHardwareSpecs": false,
    "memoryGiB": 16,
    "name": "ml.g4dn.xlarge",
    "vcpuNum": 4
   },
   {
    "_defaultOrder": 30,
    "_isFastLaunch": false,
    "category": "Accelerated computing",
    "gpuNum": 1,
    "hideHardwareSpecs": false,
    "memoryGiB": 32,
    "name": "ml.g4dn.2xlarge",
    "vcpuNum": 8
   },
   {
    "_defaultOrder": 31,
    "_isFastLaunch": false,
    "category": "Accelerated computing",
    "gpuNum": 1,
    "hideHardwareSpecs": false,
    "memoryGiB": 64,
    "name": "ml.g4dn.4xlarge",
    "vcpuNum": 16
   },
   {
    "_defaultOrder": 32,
    "_isFastLaunch": false,
    "category": "Accelerated computing",
    "gpuNum": 1,
    "hideHardwareSpecs": false,
    "memoryGiB": 128,
    "name": "ml.g4dn.8xlarge",
    "vcpuNum": 32
   },
   {
    "_defaultOrder": 33,
    "_isFastLaunch": false,
    "category": "Accelerated computing",
    "gpuNum": 4,
    "hideHardwareSpecs": false,
    "memoryGiB": 192,
    "name": "ml.g4dn.12xlarge",
    "vcpuNum": 48
   },
   {
    "_defaultOrder": 34,
    "_isFastLaunch": false,
    "category": "Accelerated computing",
    "gpuNum": 1,
    "hideHardwareSpecs": false,
    "memoryGiB": 256,
    "name": "ml.g4dn.16xlarge",
    "vcpuNum": 64
   },
   {
    "_defaultOrder": 35,
    "_isFastLaunch": false,
    "category": "Accelerated computing",
    "gpuNum": 1,
    "hideHardwareSpecs": false,
    "memoryGiB": 61,
    "name": "ml.p3.2xlarge",
    "vcpuNum": 8
   },
   {
    "_defaultOrder": 36,
    "_isFastLaunch": false,
    "category": "Accelerated computing",
    "gpuNum": 4,
    "hideHardwareSpecs": false,
    "memoryGiB": 244,
    "name": "ml.p3.8xlarge",
    "vcpuNum": 32
   },
   {
    "_defaultOrder": 37,
    "_isFastLaunch": false,
    "category": "Accelerated computing",
    "gpuNum": 8,
    "hideHardwareSpecs": false,
    "memoryGiB": 488,
    "name": "ml.p3.16xlarge",
    "vcpuNum": 64
   },
   {
    "_defaultOrder": 38,
    "_isFastLaunch": false,
    "category": "Accelerated computing",
    "gpuNum": 8,
    "hideHardwareSpecs": false,
    "memoryGiB": 768,
    "name": "ml.p3dn.24xlarge",
    "vcpuNum": 96
   },
   {
    "_defaultOrder": 39,
    "_isFastLaunch": false,
    "category": "Memory Optimized",
    "gpuNum": 0,
    "hideHardwareSpecs": false,
    "memoryGiB": 16,
    "name": "ml.r5.large",
    "vcpuNum": 2
   },
   {
    "_defaultOrder": 40,
    "_isFastLaunch": false,
    "category": "Memory Optimized",
    "gpuNum": 0,
    "hideHardwareSpecs": false,
    "memoryGiB": 32,
    "name": "ml.r5.xlarge",
    "vcpuNum": 4
   },
   {
    "_defaultOrder": 41,
    "_isFastLaunch": false,
    "category": "Memory Optimized",
    "gpuNum": 0,
    "hideHardwareSpecs": false,
    "memoryGiB": 64,
    "name": "ml.r5.2xlarge",
    "vcpuNum": 8
   },
   {
    "_defaultOrder": 42,
    "_isFastLaunch": false,
    "category": "Memory Optimized",
    "gpuNum": 0,
    "hideHardwareSpecs": false,
    "memoryGiB": 128,
    "name": "ml.r5.4xlarge",
    "vcpuNum": 16
   },
   {
    "_defaultOrder": 43,
    "_isFastLaunch": false,
    "category": "Memory Optimized",
    "gpuNum": 0,
    "hideHardwareSpecs": false,
    "memoryGiB": 256,
    "name": "ml.r5.8xlarge",
    "vcpuNum": 32
   },
   {
    "_defaultOrder": 44,
    "_isFastLaunch": false,
    "category": "Memory Optimized",
    "gpuNum": 0,
    "hideHardwareSpecs": false,
    "memoryGiB": 384,
    "name": "ml.r5.12xlarge",
    "vcpuNum": 48
   },
   {
    "_defaultOrder": 45,
    "_isFastLaunch": false,
    "category": "Memory Optimized",
    "gpuNum": 0,
    "hideHardwareSpecs": false,
    "memoryGiB": 512,
    "name": "ml.r5.16xlarge",
    "vcpuNum": 64
   },
   {
    "_defaultOrder": 46,
    "_isFastLaunch": false,
    "category": "Memory Optimized",
    "gpuNum": 0,
    "hideHardwareSpecs": false,
    "memoryGiB": 768,
    "name": "ml.r5.24xlarge",
    "vcpuNum": 96
   },
   {
    "_defaultOrder": 47,
    "_isFastLaunch": false,
    "category": "Accelerated computing",
    "gpuNum": 1,
    "hideHardwareSpecs": false,
    "memoryGiB": 16,
    "name": "ml.g5.xlarge",
    "vcpuNum": 4
   },
   {
    "_defaultOrder": 48,
    "_isFastLaunch": false,
    "category": "Accelerated computing",
    "gpuNum": 1,
    "hideHardwareSpecs": false,
    "memoryGiB": 32,
    "name": "ml.g5.2xlarge",
    "vcpuNum": 8
   },
   {
    "_defaultOrder": 49,
    "_isFastLaunch": false,
    "category": "Accelerated computing",
    "gpuNum": 1,
    "hideHardwareSpecs": false,
    "memoryGiB": 64,
    "name": "ml.g5.4xlarge",
    "vcpuNum": 16
   },
   {
    "_defaultOrder": 50,
    "_isFastLaunch": false,
    "category": "Accelerated computing",
    "gpuNum": 1,
    "hideHardwareSpecs": false,
    "memoryGiB": 128,
    "name": "ml.g5.8xlarge",
    "vcpuNum": 32
   },
   {
    "_defaultOrder": 51,
    "_isFastLaunch": false,
    "category": "Accelerated computing",
    "gpuNum": 1,
    "hideHardwareSpecs": false,
    "memoryGiB": 256,
    "name": "ml.g5.16xlarge",
    "vcpuNum": 64
   },
   {
    "_defaultOrder": 52,
    "_isFastLaunch": false,
    "category": "Accelerated computing",
    "gpuNum": 4,
    "hideHardwareSpecs": false,
    "memoryGiB": 192,
    "name": "ml.g5.12xlarge",
    "vcpuNum": 48
   },
   {
    "_defaultOrder": 53,
    "_isFastLaunch": false,
    "category": "Accelerated computing",
    "gpuNum": 4,
    "hideHardwareSpecs": false,
    "memoryGiB": 384,
    "name": "ml.g5.24xlarge",
    "vcpuNum": 96
   },
   {
    "_defaultOrder": 54,
    "_isFastLaunch": false,
    "category": "Accelerated computing",
    "gpuNum": 8,
    "hideHardwareSpecs": false,
    "memoryGiB": 768,
    "name": "ml.g5.48xlarge",
    "vcpuNum": 192
   },
   {
    "_defaultOrder": 55,
    "_isFastLaunch": false,
    "category": "Accelerated computing",
    "gpuNum": 8,
    "hideHardwareSpecs": false,
    "memoryGiB": 1152,
    "name": "ml.p4d.24xlarge",
    "vcpuNum": 96
   },
   {
    "_defaultOrder": 56,
    "_isFastLaunch": false,
    "category": "Accelerated computing",
    "gpuNum": 8,
    "hideHardwareSpecs": false,
    "memoryGiB": 1152,
    "name": "ml.p4de.24xlarge",
    "vcpuNum": 96
   },
   {
    "_defaultOrder": 57,
    "_isFastLaunch": false,
    "category": "Accelerated computing",
    "gpuNum": 0,
    "hideHardwareSpecs": false,
    "memoryGiB": 32,
    "name": "ml.trn1.2xlarge",
    "vcpuNum": 8
   },
   {
    "_defaultOrder": 58,
    "_isFastLaunch": false,
    "category": "Accelerated computing",
    "gpuNum": 0,
    "hideHardwareSpecs": false,
    "memoryGiB": 512,
    "name": "ml.trn1.32xlarge",
    "vcpuNum": 128
   },
   {
    "_defaultOrder": 59,
    "_isFastLaunch": false,
    "category": "Accelerated computing",
    "gpuNum": 0,
    "hideHardwareSpecs": false,
    "memoryGiB": 512,
    "name": "ml.trn1n.32xlarge",
    "vcpuNum": 128
   }
  ],
  "instance_type": "ml.t3.medium",
  "kernelspec": {
   "display_name": "Python 3 (Data Science 3.0)",
   "language": "python",
   "name": "python3__SAGEMAKER_INTERNAL__arn:aws:sagemaker:us-west-2:236514542706:image/sagemaker-data-science-310-v1"
  },
  "language_info": {
   "codemirror_mode": {
    "name": "ipython",
    "version": 3
   },
   "file_extension": ".py",
   "mimetype": "text/x-python",
   "name": "python",
   "nbconvert_exporter": "python",
   "pygments_lexer": "ipython3",
   "version": "3.10.6"
  }
 },
 "nbformat": 4,
 "nbformat_minor": 5
}
